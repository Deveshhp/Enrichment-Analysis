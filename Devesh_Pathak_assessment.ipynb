{
 "cells": [
  {
   "cell_type": "markdown",
   "metadata": {},
   "source": [
    "## Devesh Pathak\n",
    "\n",
    "\n",
    "### Introduction\n",
    "\n",
    "In this study, a cohort of 50 patients were administered a treatment for their tumors. Their tumors were also biopsied and then sequenced using whole exome sequencing. The goal of this study is to identify genes that are differentially associated with patients' response to the treatment.\n",
    "\n",
    "### Initial steps\n",
    "\n"
   ]
  },
  {
   "cell_type": "code",
   "execution_count": 1,
   "metadata": {},
   "outputs": [
    {
     "name": "stderr",
     "output_type": "stream",
     "text": [
      "C:\\Users\\deves\\AppData\\Local\\Temp\\ipykernel_20032\\3247908908.py:4: DeprecationWarning: \n",
      "Pyarrow will become a required dependency of pandas in the next major release of pandas (pandas 3.0),\n",
      "(to allow more performant data types, such as the Arrow string type, and better interoperability with other libraries)\n",
      "but was not found to be installed on your system.\n",
      "If this would cause problems for you,\n",
      "please provide us feedback at https://github.com/pandas-dev/pandas/issues/54466\n",
      "        \n",
      "  import pandas as pd\n"
     ]
    }
   ],
   "source": [
    "#Importing relevant modules\n",
    "\n",
    "import numpy as np\n",
    "import pandas as pd\n",
    "import matplotlib.pyplot as plt\n",
    "import scipy "
   ]
  },
  {
   "cell_type": "markdown",
   "metadata": {},
   "source": [
    "I decided to start by loading in the sample data tsv for later use, since I knew I would need to reference it down the line. I also opted to record the total number of responders and non-responders in a list called response_cts for later use. I understand that these are known quantities in the context of this problem, but I wanted to write code that would require minimal modification for use with a generic dataset (albeit assuming a similar naming scheme)."
   ]
  },
  {
   "cell_type": "code",
   "execution_count": 195,
   "metadata": {},
   "outputs": [],
   "source": [
    "#dataframe of patient info \n",
    "\n",
    "patient_df=pd.read_csv(\"./sample-information.tsv\",sep=\"\\t\")\n",
    "\n",
    "#Store Responder vs Non-Responder counts in a list [Responder ct, Non-Responder ct]\n",
    "response_cts=patient_df.shape[0]-patient_df[patient_df.Response==\"Responder\"].shape[0]\n",
    "response_cts=[response_cts,patient_df.shape[0]-response_cts]\n",
    "\n"
   ]
  },
  {
   "cell_type": "markdown",
   "metadata": {},
   "source": [
    "Next, I built a data frame to unify all the data from the maf files to save time and processing (avoids rereading maf files). To accomplish this, I created an initial dataframe by reading in patient-0's maf file, and filtered out all rows representing silent mutations. Next, I added a patient ID column so that mutations and their source patients were still tracable in the final dataframe. Finally, I selected the columns from patient-0's maf data [Hugo_Symbol, Protein_Change, Patient_ID] and the patient information dataframe above [Patient_ID, Response, Nonsynonymous_mutations_Per_Mb] and merged the two into a single dataframe on the Patient_ID column. Reducing the working dataframe down to just the relevant columns was done to help save memory. The resulting dataframe contained the following columns:\n",
    "\n",
    "|Hugo_Symbol|Protein_Change|Patient_ID|Response|Nonsynonymous_mutations_per_Mb|\n",
    "|-----------|--------------|----------|--------|------------------------------|\n",
    "\n",
    "I iterated through the remaining maf files, repeating the steps above and concatenating the result to my working dataframe, eventually unifying all the data from the 50 maf files while tracking sample identity."
   ]
  },
  {
   "cell_type": "code",
   "execution_count": 204,
   "metadata": {},
   "outputs": [
    {
     "data": {
      "text/html": [
       "<div>\n",
       "<style scoped>\n",
       "    .dataframe tbody tr th:only-of-type {\n",
       "        vertical-align: middle;\n",
       "    }\n",
       "\n",
       "    .dataframe tbody tr th {\n",
       "        vertical-align: top;\n",
       "    }\n",
       "\n",
       "    .dataframe thead th {\n",
       "        text-align: right;\n",
       "    }\n",
       "</style>\n",
       "<table border=\"1\" class=\"dataframe\">\n",
       "  <thead>\n",
       "    <tr style=\"text-align: right;\">\n",
       "      <th></th>\n",
       "      <th>Hugo_Symbol</th>\n",
       "      <th>Protein_Change</th>\n",
       "      <th>Patient_ID</th>\n",
       "      <th>Response</th>\n",
       "      <th>Nonsynonymous_mutations_per_Mb</th>\n",
       "    </tr>\n",
       "  </thead>\n",
       "  <tbody>\n",
       "    <tr>\n",
       "      <th>0</th>\n",
       "      <td>AMOT</td>\n",
       "      <td>p.Q612E</td>\n",
       "      <td>Patient-0</td>\n",
       "      <td>Non-Responder</td>\n",
       "      <td>6.77</td>\n",
       "    </tr>\n",
       "    <tr>\n",
       "      <th>1</th>\n",
       "      <td>SEMA6D</td>\n",
       "      <td>p.A676T</td>\n",
       "      <td>Patient-0</td>\n",
       "      <td>Non-Responder</td>\n",
       "      <td>6.77</td>\n",
       "    </tr>\n",
       "    <tr>\n",
       "      <th>2</th>\n",
       "      <td>PRR12</td>\n",
       "      <td>p.S1126C</td>\n",
       "      <td>Patient-0</td>\n",
       "      <td>Non-Responder</td>\n",
       "      <td>6.77</td>\n",
       "    </tr>\n",
       "    <tr>\n",
       "      <th>3</th>\n",
       "      <td>ZNF253</td>\n",
       "      <td>p.V277I</td>\n",
       "      <td>Patient-0</td>\n",
       "      <td>Non-Responder</td>\n",
       "      <td>6.77</td>\n",
       "    </tr>\n",
       "    <tr>\n",
       "      <th>4</th>\n",
       "      <td>MEF2C</td>\n",
       "      <td>p.S313L</td>\n",
       "      <td>Patient-0</td>\n",
       "      <td>Non-Responder</td>\n",
       "      <td>6.77</td>\n",
       "    </tr>\n",
       "  </tbody>\n",
       "</table>\n",
       "</div>"
      ],
      "text/plain": [
       "  Hugo_Symbol Protein_Change Patient_ID       Response  \\\n",
       "0        AMOT        p.Q612E  Patient-0  Non-Responder   \n",
       "1      SEMA6D        p.A676T  Patient-0  Non-Responder   \n",
       "2       PRR12       p.S1126C  Patient-0  Non-Responder   \n",
       "3      ZNF253        p.V277I  Patient-0  Non-Responder   \n",
       "4       MEF2C        p.S313L  Patient-0  Non-Responder   \n",
       "\n",
       "   Nonsynonymous_mutations_per_Mb  \n",
       "0                            6.77  \n",
       "1                            6.77  \n",
       "2                            6.77  \n",
       "3                            6.77  \n",
       "4                            6.77  "
      ]
     },
     "metadata": {},
     "output_type": "display_data"
    },
    {
     "name": "stdout",
     "output_type": "stream",
     "text": [
      "(11247, 5)\n"
     ]
    }
   ],
   "source": [
    "# Build larger data frame\n",
    "\n",
    "#Initialize dataframe using patient zero maf and filter out silent mutations\n",
    "df=pd.read_csv(\"./mafs/Patient-0.somatic.snvs.maf\", sep=\"\\t\")\n",
    "df=df[df.Variant_Classification != \"Silent\"]\n",
    "\n",
    "#Create column for patient ID\n",
    "df[\"Patient_ID\"]=[\"Patient-0\"]*df.shape[0]\n",
    "\n",
    "#Merge with patient data set, reduce down to columns relevant for this pipeline\n",
    "df=df[[\"Hugo_Symbol\",\"Protein_Change\",\"Patient_ID\"]].merge(\n",
    "    patient_df[[\"Patient_ID\",\"Response\",\"Nonsynonymous_mutations_per_Mb\"]])\n",
    "\n",
    "#display(df)\n",
    "\n",
    "# For loop repeats steps above for each other maf file and then concatenates \n",
    "# their data to working dataframe\n",
    "for i in range(1, patient_df.shape[0]):\n",
    "\n",
    "    # Read in maf file and remove rows representing silent mutations\n",
    "    temp_df=pd.read_csv(\"./mafs/Patient-%d.somatic.snvs.maf\" % (i), sep=\"\\t\")\n",
    "    temp_df=temp_df[temp_df.Variant_Classification != \"Silent\"]\n",
    "\n",
    "    # Create patient ID column\n",
    "    temp_df[\"Patient_ID\"]=[\"Patient-%d\" % (i)]*temp_df.shape[0]\n",
    "\n",
    "    # Take selections of columns from maf dataframe and patient dataframe,\n",
    "    # merge on patient ID field\n",
    "    temp_df=temp_df[[\"Hugo_Symbol\",\"Protein_Change\",\"Patient_ID\"]].merge(\n",
    "        patient_df[[\"Patient_ID\",\"Response\",\"Nonsynonymous_mutations_per_Mb\"]])\n",
    "\n",
    "    df=pd.concat([df,temp_df], axis=0)\n",
    "\n",
    "display(df.head())\n",
    "print(df.shape)"
   ]
  },
  {
   "cell_type": "markdown",
   "metadata": {},
   "source": [
    "### Finding the most frequent mutation\n",
    "\n",
    "To find the most frequent individual mutation, the Hugo_Symbol, Protein_Change, and Patient_ID columns of the working dataframe were selected and then grouped by the Hugo_Symbol and Protein_change. Doing so reduced the columns down to sets of patients expressing specific mutations. Next, the number of patient IDs in each group were counted to determine mutation frequencies. Finally, the rows were sorted by frequency (descending).\n",
    "\n",
    "The top 15 most frequently occuring mutations are displayed by the code cell below. Note that the patient ID column is equivalent to the number of patients expressing the mutation."
   ]
  },
  {
   "cell_type": "code",
   "execution_count": 197,
   "metadata": {},
   "outputs": [
    {
     "data": {
      "text/html": [
       "<div>\n",
       "<style scoped>\n",
       "    .dataframe tbody tr th:only-of-type {\n",
       "        vertical-align: middle;\n",
       "    }\n",
       "\n",
       "    .dataframe tbody tr th {\n",
       "        vertical-align: top;\n",
       "    }\n",
       "\n",
       "    .dataframe thead th {\n",
       "        text-align: right;\n",
       "    }\n",
       "</style>\n",
       "<table border=\"1\" class=\"dataframe\">\n",
       "  <thead>\n",
       "    <tr style=\"text-align: right;\">\n",
       "      <th></th>\n",
       "      <th></th>\n",
       "      <th>Patient_ID</th>\n",
       "    </tr>\n",
       "    <tr>\n",
       "      <th>Hugo_Symbol</th>\n",
       "      <th>Protein_Change</th>\n",
       "      <th></th>\n",
       "    </tr>\n",
       "  </thead>\n",
       "  <tbody>\n",
       "    <tr>\n",
       "      <th>ERBB4</th>\n",
       "      <th>p.S1289A</th>\n",
       "      <td>14</td>\n",
       "    </tr>\n",
       "    <tr>\n",
       "      <th>ERBB3</th>\n",
       "      <th>p.H228Q</th>\n",
       "      <td>5</td>\n",
       "    </tr>\n",
       "    <tr>\n",
       "      <th>PIK3CA</th>\n",
       "      <th>p.E545K</th>\n",
       "      <td>5</td>\n",
       "    </tr>\n",
       "    <tr>\n",
       "      <th>ERBB4</th>\n",
       "      <th>p.Q707E</th>\n",
       "      <td>5</td>\n",
       "    </tr>\n",
       "    <tr>\n",
       "      <th>MAP2K1</th>\n",
       "      <th>p.F53L</th>\n",
       "      <td>4</td>\n",
       "    </tr>\n",
       "    <tr>\n",
       "      <th>RXRA</th>\n",
       "      <th>p.S330F</th>\n",
       "      <td>4</td>\n",
       "    </tr>\n",
       "    <tr>\n",
       "      <th>TYRO3</th>\n",
       "      <th>p.L819M</th>\n",
       "      <td>4</td>\n",
       "    </tr>\n",
       "    <tr>\n",
       "      <th>ERBB3</th>\n",
       "      <th>p.M91I</th>\n",
       "      <td>4</td>\n",
       "    </tr>\n",
       "    <tr>\n",
       "      <th>ERBB4</th>\n",
       "      <th>p.E317K</th>\n",
       "      <td>4</td>\n",
       "    </tr>\n",
       "    <tr>\n",
       "      <th>FAM47C</th>\n",
       "      <th>p.Q225E</th>\n",
       "      <td>4</td>\n",
       "    </tr>\n",
       "    <tr>\n",
       "      <th>KRTAP4-11</th>\n",
       "      <th>p.L161V</th>\n",
       "      <td>4</td>\n",
       "    </tr>\n",
       "    <tr>\n",
       "      <th>TP53</th>\n",
       "      <th>p.R248Q</th>\n",
       "      <td>4</td>\n",
       "    </tr>\n",
       "    <tr>\n",
       "      <th>ZNF91</th>\n",
       "      <th>p.H305R</th>\n",
       "      <td>3</td>\n",
       "    </tr>\n",
       "    <tr>\n",
       "      <th>ZNF708</th>\n",
       "      <th>p.L251P</th>\n",
       "      <td>3</td>\n",
       "    </tr>\n",
       "    <tr>\n",
       "      <th>ZNF814</th>\n",
       "      <th>p.D404E</th>\n",
       "      <td>3</td>\n",
       "    </tr>\n",
       "  </tbody>\n",
       "</table>\n",
       "</div>"
      ],
      "text/plain": [
       "                            Patient_ID\n",
       "Hugo_Symbol Protein_Change            \n",
       "ERBB4       p.S1289A                14\n",
       "ERBB3       p.H228Q                  5\n",
       "PIK3CA      p.E545K                  5\n",
       "ERBB4       p.Q707E                  5\n",
       "MAP2K1      p.F53L                   4\n",
       "RXRA        p.S330F                  4\n",
       "TYRO3       p.L819M                  4\n",
       "ERBB3       p.M91I                   4\n",
       "ERBB4       p.E317K                  4\n",
       "FAM47C      p.Q225E                  4\n",
       "KRTAP4-11   p.L161V                  4\n",
       "TP53        p.R248Q                  4\n",
       "ZNF91       p.H305R                  3\n",
       "ZNF708      p.L251P                  3\n",
       "ZNF814      p.D404E                  3"
      ]
     },
     "metadata": {},
     "output_type": "display_data"
    }
   ],
   "source": [
    "# Select columns of working dataframe, groups by unique mutations\n",
    "# (Hugo symbol and protein change), counts the number of patient\n",
    "# IDs in each group, sorts and displays top 15 indices\n",
    "\n",
    "display(df[[\"Hugo_Symbol\",\"Protein_Change\",\"Patient_ID\"]]                \n",
    "        .groupby([\"Hugo_Symbol\",\"Protein_Change\"])\n",
    "        .count()\n",
    "        .sort_values(by=\"Patient_ID\", ascending=False).iloc[:15,:])\n"
   ]
  },
  {
   "cell_type": "markdown",
   "metadata": {},
   "source": [
    "### Assessing whether mutations to certain genes were overrepresented among Responders vs Non-Responders\n",
    "\n",
    "To assess whether mutations to specific genes were enriched in responders or non-responders, I opted to use Fisher's exact test. I chose Fisher's over chi squared because chi squared is less appropriate for smaller sample sizes.\n",
    "\n",
    "To construct the contingency table for Fisher's, I first had to find the number of patients with at least one mutation in each gene. \n",
    "\n",
    "This was accomplished by iterating through all unique hugo symbols (genes) represented in the dataframe. For each gene, I selected the rows in the dataframe with the same hugo symbol (i.e. the set of rows representing mutations in that gene), grouped the rows by response, and then counted the number of unique patient IDs in each group. Checking for uniqueness was important to prevent double counting patients with multiple mutations to the same gene. Doing so provided counts of patients with at least one mutation in a given gene with respect to whether they responded to treatment.\n",
    "\n",
    "Once these frequencies were collected, Fisher's test was run with respect to the current gene. The contingency table was constructed as follows\n",
    "\n",
    "| Given a Gene | Responder | Non Responder|\n",
    "| ---------| -----------| ----------|\n",
    "| Has Mutation| no. patients | no. patients |\n",
    "| Lacks Mutation| no. patients| no. patients|\n",
    "\n",
    "The results of the Fisher's tests were stored in a dictionary whose keys were the hugo symbols and values were Fisher statistic, p value, and the total number of patients with a mutation in that gene. "
   ]
  },
  {
   "cell_type": "code",
   "execution_count": 198,
   "metadata": {},
   "outputs": [
    {
     "data": {
      "text/html": [
       "<div>\n",
       "<style scoped>\n",
       "    .dataframe tbody tr th:only-of-type {\n",
       "        vertical-align: middle;\n",
       "    }\n",
       "\n",
       "    .dataframe tbody tr th {\n",
       "        vertical-align: top;\n",
       "    }\n",
       "\n",
       "    .dataframe thead th {\n",
       "        text-align: right;\n",
       "    }\n",
       "</style>\n",
       "<table border=\"1\" class=\"dataframe\">\n",
       "  <thead>\n",
       "    <tr style=\"text-align: right;\">\n",
       "      <th></th>\n",
       "      <th>statistic</th>\n",
       "      <th>p_value</th>\n",
       "      <th>total_freq</th>\n",
       "    </tr>\n",
       "  </thead>\n",
       "  <tbody>\n",
       "    <tr>\n",
       "      <th>ERCC2</th>\n",
       "      <td>inf</td>\n",
       "      <td>0.001631</td>\n",
       "      <td>9</td>\n",
       "    </tr>\n",
       "    <tr>\n",
       "      <th>AKAP9</th>\n",
       "      <td>inf</td>\n",
       "      <td>0.022290</td>\n",
       "      <td>6</td>\n",
       "    </tr>\n",
       "    <tr>\n",
       "      <th>MACF1</th>\n",
       "      <td>inf</td>\n",
       "      <td>0.022290</td>\n",
       "      <td>6</td>\n",
       "    </tr>\n",
       "    <tr>\n",
       "      <th>HERC1</th>\n",
       "      <td>inf</td>\n",
       "      <td>0.022290</td>\n",
       "      <td>6</td>\n",
       "    </tr>\n",
       "    <tr>\n",
       "      <th>MROH2B</th>\n",
       "      <td>inf</td>\n",
       "      <td>0.022290</td>\n",
       "      <td>6</td>\n",
       "    </tr>\n",
       "    <tr>\n",
       "      <th>HECTD1</th>\n",
       "      <td>inf</td>\n",
       "      <td>0.022290</td>\n",
       "      <td>6</td>\n",
       "    </tr>\n",
       "    <tr>\n",
       "      <th>KMT2C</th>\n",
       "      <td>9.333333</td>\n",
       "      <td>0.048797</td>\n",
       "      <td>8</td>\n",
       "    </tr>\n",
       "    <tr>\n",
       "      <th>DNAH3</th>\n",
       "      <td>inf</td>\n",
       "      <td>0.050152</td>\n",
       "      <td>5</td>\n",
       "    </tr>\n",
       "    <tr>\n",
       "      <th>COL6A6</th>\n",
       "      <td>inf</td>\n",
       "      <td>0.050152</td>\n",
       "      <td>5</td>\n",
       "    </tr>\n",
       "    <tr>\n",
       "      <th>ANK2</th>\n",
       "      <td>inf</td>\n",
       "      <td>0.050152</td>\n",
       "      <td>5</td>\n",
       "    </tr>\n",
       "  </tbody>\n",
       "</table>\n",
       "</div>"
      ],
      "text/plain": [
       "        statistic   p_value  total_freq\n",
       "ERCC2         inf  0.001631           9\n",
       "AKAP9         inf  0.022290           6\n",
       "MACF1         inf  0.022290           6\n",
       "HERC1         inf  0.022290           6\n",
       "MROH2B        inf  0.022290           6\n",
       "HECTD1        inf  0.022290           6\n",
       "KMT2C    9.333333  0.048797           8\n",
       "DNAH3         inf  0.050152           5\n",
       "COL6A6        inf  0.050152           5\n",
       "ANK2          inf  0.050152           5"
      ]
     },
     "metadata": {},
     "output_type": "display_data"
    }
   ],
   "source": [
    "# Iterates through unique mutated genes in dataframe, counts how many unique patients\n",
    "# have at least one mutation in that gene, and performs Fisher's test with respect to \n",
    "# each gene.\n",
    "\n",
    "# Dictionary for storing results of Fisher's tests\n",
    "fish_dict={}\n",
    "\n",
    "# iterate through unique genes in dataframe\n",
    "\n",
    "for gene in df[\"Hugo_Symbol\"].unique():\n",
    "\n",
    "    # Select rows representing mutations to current gene, group by treatment\n",
    "    # response, and count unique patients (to eliminate chance of double counting)\n",
    "\n",
    "    temp_df=df[df.Hugo_Symbol==gene]\n",
    "    temp_df=temp_df[[\"Patient_ID\",\"Response\"]].groupby([\"Response\"]).nunique()\n",
    "    \n",
    "    # Collects responder/non-responder mutation frequencies\n",
    "    # if none are found set to zero\n",
    "\n",
    "    responder_ct = (temp_df.loc[\"Responder\"].Patient_ID \n",
    "                    if (\"Responder\") in temp_df.index else 0)\n",
    "    \n",
    "    non_responder_ct = (temp_df.loc[\"Non-Responder\"].Patient_ID \n",
    "                        if (\"Non-Responder\") in temp_df.index else 0)\n",
    "\n",
    "    # Set up contingency table and run Fisher's test, recording result in variable\n",
    "\n",
    "    fish_tab=[[responder_ct, non_responder_ct],\n",
    "              [response_cts[0]-responder_ct, response_cts[1]-non_responder_ct]]\n",
    "    \n",
    "    res=scipy.stats.fisher_exact(fish_tab,alternative=\"two-sided\")\n",
    "    \n",
    "    # Add to dictionary. Key is current gene/hugo symbol. Value is\n",
    "    # Fisher statistic, p-value, and total no. patients with mutation\n",
    "\n",
    "    fish_dict.update({gene:(res[0], res[1], \n",
    "                           responder_ct+non_responder_ct)})\n",
    "    \n",
    "# Convert dataframe to dictionary and display top ten results\n",
    "Fisher_df=pd.DataFrame.from_dict(fish_dict,orient=\"index\",\n",
    "                              columns=[\"statistic\",\"p_value\",\"total_freq\"])\n",
    "\n",
    "display(Fisher_df.sort_values(\"p_value\").iloc[:10,:])"
   ]
  },
  {
   "cell_type": "markdown",
   "metadata": {},
   "source": [
    "The resulting dictionary was converted into a data frame, and sorted by p value (ascending). The top ten indices after sorting are displayed above. The most significantly enriched mutated gene was ERCC2, which I will discuss more below.\n",
    "\n",
    "### Plot of -log(p values) vs number of mutated patients \n",
    "\n",
    "I opted to use the negative log of the p values on my y axis so that there was increased separation between points with significance. It also results in more significant results appearing higher on the y axis, which may be more intuitive. I also reduced the marker size so that it was more clear which positions had a large number of very close/overlapping points. To further aid interpretation, I labeled the most significant result identified earlier, and inluded a line corresponding to p = 0.05. I opted to only label ERCC2 due to the larger gap in significance between it and other points, and because there are numerous overlapping points in this plot which would hinder effective labeling.\n",
    "\n"
   ]
  },
  {
   "cell_type": "code",
   "execution_count": 199,
   "metadata": {},
   "outputs": [
    {
     "data": {
      "image/png": "[encoded data removed]",
      "text/plain": [
       "<Figure size 640x480 with 1 Axes>"
      ]
     },
     "metadata": {},
     "output_type": "display_data"
    }
   ],
   "source": [
    "#Scatterplot of number of mutated patients and -log p value\n",
    "\n",
    "fig, ax=plt.subplots()\n",
    "ax.set_xlabel(\"Number of mutated patients\")\n",
    "ax.set_ylabel(\"-log(p-value)\")\n",
    "ax.set_title(\"-log(p-value) vs number of mutated patients per gene\")\n",
    "ax.scatter(Fisher_df.total_freq,\n",
    "           -1*np.log(Fisher_df.p_value), s=5)\n",
    "\n",
    "# Add line showing p = 0.05 threshold\n",
    "ax.axhline(-1*np.log(0.05), color='k', linestyle='dashed', linewidth=1)\n",
    "ax.text(ax.get_xlim()[1]*0.85, -1*np.log(0.05)+0.1, \"p = 0.05\",color=\"k\")\n",
    "\n",
    "#Label most significant result\n",
    "ax.text(Fisher_df.loc[\"ERCC2\"].total_freq+0.5,\n",
    "        -1*np.log(Fisher_df.loc[\"ERCC2\"].p_value),\"ERCC2\")\n",
    "\n",
    "plt.show()\n",
    "\n"
   ]
  },
  {
   "cell_type": "markdown",
   "metadata": {},
   "source": [
    "### Wild Type vs Mutant samples with respect to ERCC2\n",
    "\n",
    "The next step was to find whether each patient was wild type (wt) or mutant with respect to our most significant result (ERCC2) and then record their Nonsynonymous mutations per Mb.\n",
    "\n",
    "To build both series, two empty lists were initialized (one for wt, one for mutant). I then grouped the dataframe by Patient_ID, checked whether a row existed where the Hugo symbol was ERCC2 for each patient, and added the patient's nonsynonymous mutations/Mb to the appropriate list."
   ]
  },
  {
   "cell_type": "code",
   "execution_count": 200,
   "metadata": {},
   "outputs": [],
   "source": [
    "# For each patient, check if their maf file contains a row for ERCC2. If it does, \n",
    "# append their nonsynonymous mutations/Mb from patient dataframe to the mutant list. \n",
    "# Otherwise append it to wt list.\n",
    "\n",
    "wt=[]\n",
    "mutant=[]\n",
    "\n",
    "for patient in df[[\"Hugo_Symbol\",\"Patient_ID\",\n",
    "                   \"Nonsynonymous_mutations_per_Mb\"]].groupby([\"Patient_ID\"]):\n",
    "\n",
    "    if \"ERCC2\" in patient[1].Hugo_Symbol.values:\n",
    "        mutant.append(patient[1].Nonsynonymous_mutations_per_Mb[0])\n",
    "    else:\n",
    "        wt.append(patient[1].Nonsynonymous_mutations_per_Mb[0])\n",
    "\n"
   ]
  },
  {
   "cell_type": "markdown",
   "metadata": {},
   "source": [
    "These lists were used to create overlapping violin and boxplots of Nonsynonymous mutations/mb for wt vs mutant patients (below) to visualize the distributions for both populations. Visually, the distribution of non synonymous mutation frequency for wild type patients sits lower than that of mutant patients (aside from a couple of outliers).Additionally, a Wilcoxon rank sum test was conducted to determine whether there was a significant difference in the nonsynonymous mutations per Megabase. I chose the Wilcoxon ranked sum test over a T test because a T test assumes a normal distribution which did not appear satisfied by the data's distribution. A Mann Whitney U test would also be appropriate for this data, but I chose the Wilcoxon test because I have seen it be used more frequently in the papers I have read.\n",
    "\n",
    "It found that there **was a significant difference** in the number of nonsynonymous mutations per Megabase between wild type and mutatant patients (p=0.0016)"
   ]
  },
  {
   "cell_type": "code",
   "execution_count": 201,
   "metadata": {},
   "outputs": [
    {
     "name": "stdout",
     "output_type": "stream",
     "text": [
      "Wilcoxon ranked sum results:\n",
      "\tStatistic = -3.16 \n",
      "\tp-value = 0.00160\n"
     ]
    },
    {
     "data": {
      "image/png": "[encoded data removed]",
      "text/plain": [
       "<Figure size 640x480 with 1 Axes>"
      ]
     },
     "metadata": {},
     "output_type": "display_data"
    }
   ],
   "source": [
    "# Create boxplot of Nonsynonymous mutations/Mb for wt vs mutant patients.\n",
    "\n",
    "fig, ax=plt.subplots()\n",
    "ax.violinplot([wt,mutant])\n",
    "ax.boxplot([wt,mutant])\n",
    "ax.set_ylabel(\"Nonsynonymous mutations/Mb\")\n",
    "ax.set_xticklabels([\"wt\",\"mutant\"])\n",
    "ax.set_title(\"Nonsynonymous mutations per Mb for wt and mutant samples\")\n",
    "#print(len(wt),len(mutant))\n",
    "\n",
    "\n",
    "# Wilcoxon ranked sum test to determine whether there is a significant \n",
    "# difference between groups.\n",
    "\n",
    "Wilcox_result=scipy.stats.ranksums(wt, mutant)\n",
    "\n",
    "print(\"Wilcoxon ranked sum results:\\n\\tStatistic = {stat:.2f} \\n\\tp-value = {val:.5f}\"\n",
    "      .format(stat=Wilcox_result[0], val=Wilcox_result[1]))"
   ]
  },
  {
   "cell_type": "markdown",
   "metadata": {},
   "source": [
    "### Conclusions from tests\n",
    "\n",
    "In this study, we determined that nonsynonymous mutations in ERCC2 were most enriched between patients that responded to treatment and patients that did not. Additionally, we determined that there was a significant difference in the number of nonsynonymous mutations among patients with a mutation in ERCC2 compared to patients without one. Given this information, the next logical step would be to interrogate the function of ERCC2.\n",
    "\n",
    "ERCC2 codes for a protein called XPD, which is a part of the Transcription Factor II Human (TFIIH) complex. The TFIIH complex is involved in initiating transcription, and is also involved in DNA repair via the Nucleotide Exision Repair pathway ([Medline Plus](https://medlineplus.gov/genetics/gene/ercc2/), [Genecards](https://www.genecards.org/cgi-bin/carddisp.pl?gene=ERCC2)). Impairments to DNA repair being conducive to increased mutation frequency makes intuitive sense, as it can lead to additional mutations and allow them to persist. This connection also corroborates well with prior research, as defects in this ERCC2 have also been associated with multiple disorders, including one that makes individuals more prone to skin cancer known as Xeroderma pigmentosum, group D ([NCBI ERCC2 page](https://www.ncbi.nlm.nih.gov/gene/2068), [NCBI Xenoderma pigmentosum page](https://www.ncbi.nlm.nih.gov/medgen/75656)).\n",
    "\n",
    "\n",
    "### Expansion and Improvement:\n",
    "\n",
    "Obviously, this study would benefit from a larger sample size, as this data is quite thin. Apart from that, an interesting direction to expand this analysis would be to interrogate the data on the level of functionally related sets of genes (maybe GSEA or something similar). Doing so would allow us to see if certain pathways were more likely to be mutated in responders vs non-responders. Doing so may better characterize the types of disruptions for which the treatment is effective compared to analysis at the level of individual genes. \n",
    "\n",
    "An improvement to the study may be to require a sufficient number of patients to have a mutation before testing it using Fisher's. I had this thought because I decided to look at the significance threshold for part four (the Fisher's test) after using Bonferroni correction to account for multiple testing. While this did not effect the most significant mutation (hence why I opted to discuss it in the conclusion), I found that the resultant significance threshold seemed very low/demanding and was curious as to how many samples could realistically be filtered out prior to testing (e.g. a gene that only had nonsynonymous mutation/s in a single sample). \n",
    "\n",
    "Below, I have compiled some statistics and a histogram of sample sizes per gene. These use the same dataframe used for the Fisher's test above, so a sample size of one means that only one patient in the cohort had one or more nonsynonymous mutations for that gene. "
   ]
  },
  {
   "cell_type": "code",
   "execution_count": 202,
   "metadata": {},
   "outputs": [
    {
     "name": "stdout",
     "output_type": "stream",
     "text": [
      "Number of unique genes tested:  6927\n",
      "Bonferroni adjusted p value assuming all genes tested and initial\n",
      "significance threshold of p < 0.05: p < 7.218e-06\n",
      "\n",
      "Average frequency of all genes: 1.53\n",
      "Median frequency of all genes: 1.0\n",
      "Total number of genes with one observation: 4657\n",
      "Proportion of genes with one observation: 0.67\n"
     ]
    },
    {
     "data": {
      "image/png": "[encoded data removed]",
      "text/plain": [
       "<Figure size 640x480 with 1 Axes>"
      ]
     },
     "metadata": {},
     "output_type": "display_data"
    }
   ],
   "source": [
    "#Dimensions of freq dataframe and Bonferroni adjusted threshold for initial tests\n",
    "\n",
    "print(\"Number of unique genes tested: \", Fisher_df.shape[0])\n",
    "\n",
    "print(\"Bonferroni adjusted p value assuming all genes tested and\", \n",
    "      \"initial\\nsignificance threshold of p < 0.05: p < {val:.3e}\\n\"\n",
    "      .format(val=0.05/Fisher_df.shape[0]))\n",
    "\n",
    "#summary statistics for number of observations\n",
    "\n",
    "print(\"Average frequency of all genes: {val:.2f}\"\n",
    "      .format(val=np.mean(Fisher_df.total_freq)))\n",
    "\n",
    "print(\"Median frequency of all genes:\", np.median(Fisher_df.total_freq))\n",
    "\n",
    "#total number and proportion of genes with less than two observations across cohort\n",
    "\n",
    "print(\"Total number of genes with one observation:\", \n",
    "      Fisher_df[Fisher_df.total_freq<=1].shape[0])\n",
    "\n",
    "print(\"Proportion of genes with one observation: {val:.2f}\"\n",
    "      .format(val= Fisher_df[Fisher_df.total_freq<=1].shape[0]/Fisher_df.shape[0]))\n",
    "\n",
    "# Histogram of total number of observations\n",
    "\n",
    "fig, ax=plt.subplots()\n",
    "ax.hist(Fisher_df.total_freq,range=(0,10), log=True, edgecolor=\"k\")\n",
    "ax.set_ylabel(\"log frequency\")\n",
    "ax.set_xlabel(\"sample size per gene\")\n",
    "\n",
    "#annotate mean\n",
    "ax.axvline(np.mean(Fisher_df.total_freq), color='r', linestyle='dashed', linewidth=1)\n",
    "ax.text(np.mean(Fisher_df.total_freq)*1.4, ax.get_ylim()[1]*0.6, 'Mean: {:.2f}'\n",
    "        .format(np.mean(Fisher_df.total_freq)),color=\"r\")\n",
    "\n",
    "#annotate median\n",
    "ax.axvline(np.median(Fisher_df.total_freq), color='g', linestyle='dashed', linewidth=1)\n",
    "ax.text(np.median(Fisher_df.total_freq)*1.7, ax.get_ylim()[1]*0.8, 'Median: {:.2f}'\n",
    "        .format(np.median(Fisher_df.total_freq)),color=\"g\")\n",
    "\n",
    "plt.show()"
   ]
  },
  {
   "cell_type": "markdown",
   "metadata": {},
   "source": [
    "Based on these results, two thirds of the genes respresented in the maf files only had one corresponding patient with an observed mutation/mutations. As a result, testing these genes individually is very unlikely to produce relevant results. In filtering them out of the genes tested, both the amount of computation and the penalty on the significance threshold would decrease.\n",
    "\n",
    "Below, I calculate the Bonferonni corrected significance threshold (assuming inital significance threshold of 0.05) if genes with frequency <=1 were not tested."
   ]
  },
  {
   "cell_type": "code",
   "execution_count": 203,
   "metadata": {},
   "outputs": [
    {
     "name": "stdout",
     "output_type": "stream",
     "text": [
      "Bonferroni adjusted p value assuming only genes with >1 observation tested \n",
      "and initial significance threshold of p < 0.05: p < 2.203e-05\n"
     ]
    }
   ],
   "source": [
    "print(\"Bonferroni adjusted p value assuming only genes with >1 observation tested\",\n",
    "      \"\\nand initial significance threshold of p < 0.05: p < {val:.3e}\".format(\n",
    "          val = 0.05/(Fisher_df.shape[0]-Fisher_df[Fisher_df.total_freq<=1].shape[0])))\n"
   ]
  },
  {
   "cell_type": "markdown",
   "metadata": {},
   "source": [
    "While that threshold is still demanding, it is more achievable by an order of magnitude. Additionally, this is the safest subset to remove alongside a relatively conservative correction procedure in Bonferroni. I understand that these optimizations do not impact the pipeline associated with this problem, but I thought it was worth attention nonetheless. \n",
    "\n",
    "\n",
    "\n",
    "### Works Cited\n",
    "\n",
    "ERCC2 ERCC excision repair 2, TFIIH core complex helicase subunit [Homo sapiens (human)] - Gene - NCBI. (2024, December 3). Www.ncbi.nlm.nih.gov. \n",
    "    <br>   https://www.ncbi.nlm.nih.gov/gene/2068\n",
    "\n",
    "ERCC2 Gene - GeneCards | ERCC2 Protein | ERCC2 Antibody. (n.d.). Genecards.org. \n",
    "    <br>   Retrieved December 9, 2024, from https://www.genecards.org/cgi-bin/carddisp.pl?gene=ERCC2\n",
    "\n",
    "ERCC2 gene: MedlinePlus Genetics. (2010, May 1). Medlineplus.gov. \n",
    "    <br>   https://medlineplus.gov/genetics/gene/ercc2/\n",
    "\n",
    "Xeroderma pigmentosum, group D (Concept Id: C0268138) - MedGen - NCBI. (n.d.). Nih.gov. \n",
    "    <br>   Retrieved December 9, 2024, from https://www.ncbi.nlm.nih.gov/medgen/75656"
   ]
  }
 ],
 "metadata": {
  "kernelspec": {
   "display_name": "Python 3",
   "language": "python",
   "name": "python3"
  },
  "language_info": {
   "codemirror_mode": {
    "name": "ipython",
    "version": 3
   },
   "file_extension": ".py",
   "mimetype": "text/x-python",
   "name": "python",
   "nbconvert_exporter": "python",
   "pygments_lexer": "ipython3",
   "version": "3.10.7"
  }
 },
 "nbformat": 4,
 "nbformat_minor": 2
}
